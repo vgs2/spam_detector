{
 "cells": [
  {
   "cell_type": "markdown",
   "metadata": {},
   "source": [
    "# Spam detection Data Science Project\n",
    "This project was inspired by the Chapter 3 exercises of the book 'Hands on Machine Learning' by Aurelien Geron, if you are new to Machile learning / Data Science, I highly recommend the book<br>\n",
    "In order to make this project, I followed the line of thought present on the following link, by the same author cited above: https://github.com/ageron/handson-ml2/blob/master/03_classification.ipynb<br>\n",
    "https://towardsdatascience.com/spam-detection-in-emails-de0398ea3b48\n",
    "I avoided copying the above code, because doing so would hinder my learning, so if you want to check a better solution, you should check the link above<br>\n",
    "The used dataset can be found in the following link: https://spamassassin.apache.org/old/publiccorpus/\n"
   ]
  },
  {
   "cell_type": "markdown",
   "metadata": {},
   "source": [
    "## First, let's import the data"
   ]
  },
  {
   "cell_type": "code",
   "execution_count": 5,
   "metadata": {},
   "outputs": [],
   "source": [
    "import os\n",
    "import re"
   ]
  },
  {
   "cell_type": "code",
   "execution_count": 6,
   "metadata": {},
   "outputs": [],
   "source": [
    "SPAM_PATH = './data/spam'\n",
    "HAM_PATH = './data/easy_ham'"
   ]
  },
  {
   "cell_type": "code",
   "execution_count": 7,
   "metadata": {},
   "outputs": [],
   "source": [
    "spam_filenames = os.listdir('./data/spam')\n",
    "ham_filenames = os.listdir('./data/easy_ham')\n",
    "# spam_filenames"
   ]
  },
  {
   "cell_type": "code",
   "execution_count": 8,
   "metadata": {},
   "outputs": [],
   "source": [
    "import email\n",
    "import email.policy\n",
    "\n",
    "def load_email(filename, folder_path):\n",
    "    with open(os.path.join(folder_path, filename), \"rb\") as f:\n",
    "        return email.parser.BytesParser(policy=email.policy.default).parse(f)"
   ]
  },
  {
   "cell_type": "code",
   "execution_count": 9,
   "metadata": {},
   "outputs": [],
   "source": [
    "ham_emails = [load_email(filename=name, folder_path=HAM_PATH) for name in ham_filenames]\n",
    "spam_emails = [load_email(filename=name, folder_path=SPAM_PATH) for name in spam_filenames]"
   ]
  },
  {
   "cell_type": "markdown",
   "metadata": {},
   "source": [
    "## Now it is time to clean the data. We need to remove hyperlinks, special characters and other stuff as well"
   ]
  },
  {
   "cell_type": "code",
   "execution_count": 10,
   "metadata": {},
   "outputs": [
    {
     "name": "stdout",
     "output_type": "stream",
     "text": [
      "Tim> About half the developers on the spambayes project were missing\n",
      "    Tim> some permission or other, so I ran thru all of them and checked\n",
      "    Tim> every damned box and clicked on every damn dropdown list I could\n",
      "    Tim> find.  As far as SF is concerned, you're all sitting on God's Right\n",
      "    Tim> Hand now, so if it still doesn't work I suggest you upgrade to\n",
      "    Tim> Win98 <wink>.\n",
      "\n",
      "Time to upgrade I guess. :-(\n",
      "\n",
      "    % cvs add unheader.py \n",
      "    cvs [server aborted]: \"add\" requires write access to the repository\n",
      "\n",
      "I'll try a checkout into a new directory...\n",
      "\n",
      "S\n"
     ]
    }
   ],
   "source": [
    "print(ham_emails[0].get_content().strip())"
   ]
  },
  {
   "cell_type": "code",
   "execution_count": 11,
   "metadata": {},
   "outputs": [
    {
     "data": {
      "text/plain": [
       "\"Hi All,\\n\\nAnyone ever try connecting at 1200bps in Linux? I've got a USR 56K\\nFaxmodem which is meant to connect to another (same) modem and I have to\\nconnect at this speed due to the (NT) port settings on the remote side,\\nbut the modem handshake always fails at this speed.\\n\\nThe modem handshake works at slightly higher speeds (4800bps to\\n~57600bps) but that is no good for tx/rx'ing data to the remote server\\nas it insists at talking at the speed of treacle/1200bps.\\n\\nNote Minicom fails to handshake at 1200bps, but HyperTerm in Windows\\nworked first time(!?), any ideas?\\n\\nBaud 1200 7 data bits Even Parity\\n\\nI am doing a ATZ3 to reset the modem then I send this init string:\\n\\nAT&F1E1V1Q0X4Y0S32=232&A1&B0&C1&D2&H0&I0&K1&M4&N0&P0&R1&S0&U0&Y1\\n\\n... which is most of the defaults.\\n\\nUSR said to set S15=128 (disables v.42)) \\n& set S32=98 (disable v.92 & X2)\\n\\nBut the S15=128 just makes the handshake lockup instead of just giving\\nup.\\n\\nbtw this is a bank's system I am connecting to so reconfiguring their\\nmodems may be difficult.\\n\\nColin.\\n\\n\\n-- \\nColin Nevin,\\nSoftware Engineer,\\nMerit Solutions Ltd. (Dublin),\\n5 Goatstown Cross,\\nDublin 14.\\n------------------------------------------\\nPrinted using 100% recycled electrons.\\n\\n-- \\nIrish Linux Users' Group: ilug@linux.ie\\nhttp://www.linux.ie/mailman/listinfo/ilug for (un)subscription information.\\nList maintainer: listmaster@linux.ie\\n\\n\\n\""
      ]
     },
     "execution_count": 11,
     "metadata": {},
     "output_type": "execute_result"
    }
   ],
   "source": [
    "ham_emails[1].get_payload()"
   ]
  },
  {
   "cell_type": "code",
   "execution_count": 12,
   "metadata": {},
   "outputs": [],
   "source": [
    "import base64"
   ]
  },
  {
   "cell_type": "code",
   "execution_count": 13,
   "metadata": {},
   "outputs": [],
   "source": [
    "def get_email_body(emailobj):\n",
    "    \"\"\" Return the body of the email, preferably in text.\n",
    "    \"\"\"\n",
    "\n",
    "    def _get_body(emailobj):\n",
    "        \"\"\" Return the first text/plain body found if the email is multipart\n",
    "        or just the regular payload otherwise.\n",
    "        \"\"\"\n",
    "        if emailobj.is_multipart():\n",
    "            for payload in emailobj.get_payload():\n",
    "                # If the message comes with a signature it can be that this\n",
    "                # payload itself has multiple parts, so just return the\n",
    "                # first one\n",
    "                if payload.is_multipart():\n",
    "                    return _get_body(payload)\n",
    "\n",
    "                body = payload.get_payload()\n",
    "                if payload.get_content_type() == \"text/plain\":\n",
    "                    return body\n",
    "        else:\n",
    "            return emailobj.get_payload()\n",
    "\n",
    "    body = _get_body(emailobj)\n",
    "\n",
    "    enc = emailobj[\"Content-Transfer-Encoding\"]\n",
    "    if enc == \"base64\":\n",
    "        # body = base64.decodestring(body)\n",
    "        body = \"base64\"\n",
    "\n",
    "    return body "
   ]
  },
  {
   "cell_type": "code",
   "execution_count": 14,
   "metadata": {},
   "outputs": [],
   "source": [
    "import re\n",
    "from html import unescape\n",
    "\n",
    "def html_to_plain_text(html):\n",
    "    text = re.sub('<head.*?>.*?</head>', '', html, flags=re.M | re.S | re.I)\n",
    "    text = re.sub('<a\\s.*?>', ' HYPERLINK ', text, flags=re.M | re.S | re.I)\n",
    "    text = re.sub('<.*?>', '', text, flags=re.M | re.S)\n",
    "    text = re.sub(r'(\\s*\\n)+', '\\n', text, flags=re.M | re.S)\n",
    "    return unescape(text)"
   ]
  },
  {
   "cell_type": "code",
   "execution_count": 15,
   "metadata": {},
   "outputs": [],
   "source": [
    "def clean_body(email):\n",
    "    if(email):\n",
    "\n",
    "        to_clean = ['\\n', '@', '=', '!', '.', ',', '\\'', ';', '(', ')', '<','>', ':','?', '\"', '*', '1', '2', '3' ,  '4', '5', '6', '7', '8', '9','0', '+','^','~']\n",
    "        to_space = ['-','_','/']\n",
    "        result = re.sub(r\"http\\S+\", \"url\", email)\n",
    "        result = html_to_plain_text(result)\n",
    "        # result = result.split()\n",
    "        for sub in to_clean: result=result.replace(sub,\"\")\n",
    "        for sub in to_space: result= result.replace(sub,' ')\n",
    "        result = ' '.join(word for word in result.split(' ') if not word.startswith(('/', '%', 'r`')))\n",
    "        # result = ''.join(digit for digit in result if not digit.isdigit())\n",
    "        result = result.lower()\n",
    "        return result\n",
    "    \n",
    "    else: return \"\""
   ]
  },
  {
   "cell_type": "code",
   "execution_count": 16,
   "metadata": {},
   "outputs": [],
   "source": [
    "def email_to_text(email):\n",
    "    html = None\n",
    "    for part in email.walk():\n",
    "        ctype = part.get_content_type()\n",
    "        if not ctype in (\"text/plain\", \"text/html\"):\n",
    "            continue\n",
    "        try:\n",
    "            content = part.get_content()\n",
    "        except: # in case of encoding issues\n",
    "            content = str(part.get_payload())\n",
    "        if ctype == \"text/plain\":\n",
    "            return content\n",
    "        else:\n",
    "            html = content\n",
    "    if html:\n",
    "        return html_to_plain_text(html)"
   ]
  },
  {
   "cell_type": "code",
   "execution_count": 17,
   "metadata": {},
   "outputs": [
    {
     "name": "stdout",
     "output_type": "stream",
     "text": [
      "CPU times: user 1.52 ms, sys: 0 ns, total: 1.52 ms\n",
      "Wall time: 1.54 ms\n"
     ]
    },
    {
     "data": {
      "text/plain": [
       "'take control of your computer with this top of the line software                 symantec systemworks                professional software suite this special package includes six   yes    feature packed utilitiesall for  special low price of only $this software will   protect your computer from unwanted and hazardous viruses   help secure your private & valuable information   allow you to transfer files and send e mails safely   backup your all your data quick and easily   improve your pcs performance w superior integral diagnostics    youll never have to take your pc to the repair shop again         thats six yes    feature packed utilities   great price    a $ combined retail value yours only $ limited time offer         why so cheap you ask you are buying online wholesale                  direct from the warehouse to you                               and          for a limited time buy  of any software & get  free            dont fall prey to destructive viruses or programs          protect your computer and your valuable information and          click here to order now   url             or cut & paste the above link    in your browsers url bar          for more questions or to order call us toll free anytime                                         we are strongly against sending unsolicited emails to those who do not wish to receiveour special mailings you have opted in to one or more of our affiliate sites requestingto be notified of any special offers we may run from time to time we also have attainedthe services of an independent rd party to overlook list management and removalservices the list code in which you are registered is marked at the bottom of this emailif you do not wish to receive further mailingsplease click here   url to be removed from the listplease accept our apologies if you have been sent this email in error we honor all removal requestsiaes international association of email security approved list serial # etyu ssiusa'"
      ]
     },
     "execution_count": 17,
     "metadata": {},
     "output_type": "execute_result"
    }
   ],
   "source": [
    "%%time\n",
    "# clean_email = clean_body(get_email_body(ham_emails[3])).strip()\n",
    "clean_email = clean_body(get_email_body(spam_emails[1])).strip()\n",
    "clean_email\n",
    "# get_email_body(ham_emails[3])"
   ]
  },
  {
   "cell_type": "code",
   "execution_count": null,
   "metadata": {},
   "outputs": [],
   "source": []
  },
  {
   "cell_type": "code",
   "execution_count": 18,
   "metadata": {},
   "outputs": [],
   "source": [
    "from collections import Counter\n",
    "# count = Counter(clean_email.split())\n",
    "# count"
   ]
  },
  {
   "cell_type": "code",
   "execution_count": null,
   "metadata": {},
   "outputs": [],
   "source": []
  },
  {
   "cell_type": "code",
   "execution_count": 19,
   "metadata": {},
   "outputs": [],
   "source": [
    "#para todo email vamos rodar o clean e o counter"
   ]
  },
  {
   "cell_type": "code",
   "execution_count": 20,
   "metadata": {},
   "outputs": [],
   "source": [
    "emails = ham_emails + spam_emails\n",
    "y = [0 for a in range(len(ham_emails))] + [1 for a in range(len(spam_emails))]"
   ]
  },
  {
   "cell_type": "code",
   "execution_count": 21,
   "metadata": {},
   "outputs": [],
   "source": [
    "# len(ham_emails)\n",
    "# emails[2550] == ham_emails[2550]\n",
    "# Y[2551]"
   ]
  },
  {
   "cell_type": "code",
   "execution_count": 22,
   "metadata": {},
   "outputs": [],
   "source": [
    "clean_spam = [get_email_body(email) for email in spam_emails]"
   ]
  },
  {
   "cell_type": "code",
   "execution_count": null,
   "metadata": {},
   "outputs": [],
   "source": []
  },
  {
   "cell_type": "code",
   "execution_count": 23,
   "metadata": {},
   "outputs": [
    {
     "data": {
      "text/plain": [
       "\"\\n    Does Your Comp=\\nuter Need an Oil\\n      Change?\\n    N=\\nortonSystemWorks\\n      2002 Professional\\n      Edition\\n    =\\nMade\\n      by the Creators of the #1 Anti-Virus Software on the Market!\\n    This\\n      UNBEATABLE software suite comes with  EVERY\\n      program you'll  ever n=\\need to answer the problems or threats that your\\n      computer faces each day of it's Life!Included in this magnificent deal\\n      are the following programs:\\n    Norton\\n      AntiVirus=FFFFFF99 2002 - THE #1\\n      ANTI-VIRUS PROTECION EVER!Norton Utilities=FFFFFF99 2002\\n      - DIAGNOSE ANY PROBLEM WI=\\nTH YOUR\\n      SYSTEM!\\n      Norton Ghost=FFFFFF99 2002 - MAKES\\n      BACKING UP YOUR VALUABLE DATA EASY!\\n      Norton CleanSweep=FFFFFF99 2002 - CLEANS\\n      OUT EXCESS INTERNET FILE BUILDUP!\\n      Norton WinFax=FFFFFF99 Basic - TURNS YOUR\\n      CPU INTO A FAX MACHINE!\\n      GoBack=FFFFFFAE 3 Personal - HELPS\\n      PREVENT YOU FROM MAKING ANY MISTAKES!\\n    *ALL\\n      this has a retail price of $99.95*  Get it\\n      Now for ONLY $29.99!with\\n      FREE SHIPPING!\\n     HYPERLINK CLICK\\n      HERE to order NOW!\\nThis Product is available NOW. =\\nWhen we\\nrun out it's gone, so get it while it's HOT!\\n\\xa0\\n\\xa0\\n    Your\\n      email address was obtained from an opt-in list. Opt-in IAO (Internet\\n      Advertising Organisation)\\xa0 List\\n      \\xa0Serial No. EGU601.\\xa0\\xa0If you wish to be unsubscribed f=\\nrom\\n      this list, please  HYPERLINK Click\\n      here. We do not condone spam in any shape or form. Thank You kin=\\ndly\\n      for your cooperation.\\n\""
      ]
     },
     "execution_count": 23,
     "metadata": {},
     "output_type": "execute_result"
    }
   ],
   "source": [
    "html_to_plain_text(clean_spam[4])"
   ]
  },
  {
   "cell_type": "code",
   "execution_count": 24,
   "metadata": {},
   "outputs": [
    {
     "data": {
      "text/plain": [
       "'<html>\\n\\n<head>\\n<meta http-equiv=3D\"Content-Language\" content=3D\"en-us\">\\n<meta http-equiv=3D\"Content-Type\" content=3D\"text/html; charset=3Dwindows-=\\n1252\">\\n<meta name=3D\"GENERATOR\" content=3D\"Microsoft FrontPage 4.0\">\\n<meta name=3D\"ProgId\" content=3D\"FrontPage.Editor.Document\">\\n<title>Does Your Computer Need an Oil Change</title>\\n</head>\\n\\n<body>\\n\\n<table border=3D\"0\" width=3D\"538\" height=3D\"1\">\\n  <tr>\\n    <td width=3D\"538\" height=3D\"1\" align=3D\"center\" bgcolor=3D\"#000000\"><b=\\n><font face=3D\"Century Gothic\" size=3D\"5\" color=3D\"#FFFFFF\">Does Your Comp=\\nuter Need an Oil\\n      Change?</font></b></td>\\n  </tr>\\n</table>\\n<table border=3D\"0\" width=3D\"538\" height=3D\"151\">\\n  <tr>\\n    <td width=3D\"530\" height=3D\"145\"><b><font face=3D\"Tahoma\" size=3D\"5\">N=\\norton</font><font color=3D\"#006600\" face=3D\"Verdana\" size=3D\"7\"><br></font=\\n><i><font face=3D\"Verdana\" color=3D\"#CC0000\" size=3D\"7\">SystemWorks\\n      2002</font></i><font size=3D\"4\" face=3D\"Verdana\"><br> </font><font f=\\nace=3D\"Tahoma\" size=3D\"5\">Professional\\n      Edition</font> </b></td>\\n  </tr>\\n</table>\\n<table border=3D\"0\" width=3D\"538\" height=3D\"26\">\\n  <tr>\\n    <td width=3D\"100%\" height=3D\"20\" align=3D\"center\" bgcolor=3D\"#000000\">=\\n<b><font color=3D\"#FFFFFF\" face=3D\"Century Gothic\">Made\\n      by the Creators of the #1 Anti-Virus Software on the Market!</font><=\\n/b></td>\\n  </tr>\\n</table>\\n\\n<table border=3D\"0\" width=3D\"538\" height=3D\"77\">\\n  <tr>\\n    <td width=3D\"100%\" height=3D\"71\" align=3D\"center\"><font face=3D\"Lucida=\\n Sans Unicode\" color=3D\"#CC0000\">This\\n      <u>UNBEATABLE</u> software suite comes with <i> EVERY</i>\\n      program you\\'ll </font><font face=3D\"Lucida Sans Unicode\" color=3D\"#F=\\nF0000\"> ever</font><font face=3D\"Lucida Sans Unicode\" color=3D\"#CC0000\"> n=\\need to answer the problems or threats that your\\n      computer faces each day of it\\'s Life!<br><br></font><font face=3D\"Ta=\\nhoma\" color=3D\"#000000\"><b>Included in this magnificent deal\\n      are the following programs:</b></font></td>\\n  </tr>\\n</table>\\n\\n<table border=3D\"0\" width=3D\"538\" height=3D\"138\">\\n  <tr>\\n    <td width=3D\"100%\" height=3D\"132\" bgcolor=3D\"#333333\"><font color=3D\"#=\\nFFFFFF\"><font size=3D\"4\" face=3D\"Tahoma\">Norton\\n      AntiVirus=FFFFFF99 2002 - </font><font face=3D\"Tahoma\" size=3D\"2\"><b=\\n>THE #1\\n      ANTI-VIRUS PROTECION EVER!</b></font><font size=3D\"4\" face=3D\"Tahoma=\\n\"><br>Norton Utilities=FFFFFF99 2002\\n      - </font><font face=3D\"Tahoma\" size=3D\"2\"><b>DIAGNOSE ANY PROBLEM WI=\\nTH YOUR\\n      SYSTEM!</b></font><font size=3D\"4\" face=3D\"Tahoma\"><br>\\n      <font size=3D\"4\">Norton Ghost=FFFFFF99 2002 - </font></font><font fa=\\nce=3D\"Tahoma\" size=3D\"2\"><b>MAKES\\n      BACKING UP YOUR VALUABLE DATA EASY!</b></font><font size=3D\"4\" face=3D=\\n\"Tahoma\"><br>\\n      Norton CleanSweep=FFFFFF99 2002 - </font><font face=3D\"Tahoma\" size=3D=\\n\"2\"><b>CLEANS\\n      OUT EXCESS INTERNET FILE BUILDUP!</b></font><font size=3D\"4\" face=3D=\\n\"Tahoma\"><br>\\n      Norton WinFax=FFFFFF99 Basic - </font><font face=3D\"Tahoma\" size=3D\"=\\n2\"><b>TURNS YOUR\\n      CPU INTO A FAX MACHINE!</b></font><font size=3D\"4\" face=3D\"Trebuchet=\\n MS\"><br>\\n      </font>\\n      <font size=3D\"4\" face=3D\"Tahoma\">GoBack=FFFFFFAE 3 Personal - </font=\\n><b><font face=3D\"Tahoma\" size=3D\"2\">HELPS\\n      PREVENT YOU FROM MAKING ANY MISTAKES!</font></b></font></td>\\n  </tr>\\n</table>\\n\\n<table border=3D\"0\" width=3D\"538\" height=3D\"63\">\\n  <tr>\\n    <td width=3D\"100%\" height=3D\"57\" align=3D\"center\"><b><font face=3D\"Ver=\\ndana\" size=3D\"4\" color=3D\"#800000\">*ALL\\n      this has a retail price of $99.95*</font><font face=3D\"Verdana\" size=\\n=3D\"5\" color=3D\"#FF0000\"><BR> </font><font face=3D\"Verdana\" color=3D\"#FF00=\\n00\" size=3D\"6\"> Get it\\n      Now for ONLY $29.99!</font><font face=3D\"Verdana\" size=3D\"5\" color=3D=\\n\"#FF0000\"><br></font><i><font face=3D\"Verdana\" size=3D\"5\" color=3D\"#666666=\\n\">with\\n      FREE SHIPPING!</font></i></b></td>\\n  </tr>\\n</table>\\n\\n<table border=3D\"1\" width=3D\"538\" height=3D\"60\" bgcolor=3D\"#333333\">\\n  <tr>\\n    <td width=3D\"100%\" height=3D\"54\" align=3D\"center\"><font size=3D\"6\" col=\\nor=3D\"#FFFFFF\" face=3D\"Impact\"><a href=3D\"http://64.251.23.141/affiliates/=\\nnorton/systemworkse123.htm\" style=3D\"color: #FFFFFF\">CLICK\\n      HERE to order NOW!</a></font></td>\\n  </tr>\\n</table>\\n<p><font color=3D\"#000000\" face=3D\"System\">This Product is available NOW. =\\nWhen we\\nrun out it\\'s gone, so get it while it\\'s HOT!</font></p>\\n\\n<p>&nbsp;</p>\\n<p>&nbsp;</p>\\n<table border=3D\"1\" width=3D\"538\" height=3D\"10\" bordercolorlight=3D\"#66666=\\n6\" bordercolordark=3D\"#333333\">\\n  <tr>\\n    <td width=3D\"100%\" height=3D\"4\" align=3D\"center\"><font face=3D\"Tahoma\"=\\n size=3D\"1\" color=3D\"#666666\">Your\\n      email address was obtained from an opt-in list. Opt-in IAO (Internet\\n      Advertising Organisation)&nbsp; List<br>\\n      &nbsp;Serial No. EGU601.&nbsp;&nbsp;If you wish to be unsubscribed f=\\nrom\\n      this list, please <a style=3D\"color: #800000\" href=3D\"http://64.251.=\\n23.141/affiliates/norton/removeme.html\">Click\\n      here</a>. We do not condone spam in any shape or form. Thank You kin=\\ndly\\n      for your cooperation.</font></td>\\n  </tr>\\n</table>\\n\\n</body>\\n\\n</html>\\n\\n\\n\\n'"
      ]
     },
     "execution_count": 24,
     "metadata": {},
     "output_type": "execute_result"
    }
   ],
   "source": [
    "clean_spam[4]"
   ]
  },
  {
   "cell_type": "code",
   "execution_count": 25,
   "metadata": {},
   "outputs": [],
   "source": [
    "# counter_list = [Counter(clean_body(get_email_body(email)).strip().split()) for email in ham_emails]"
   ]
  },
  {
   "cell_type": "code",
   "execution_count": 26,
   "metadata": {},
   "outputs": [],
   "source": [
    "counter_list =  [Counter(clean_body(get_email_body(email)).strip().split()) for email in emails]"
   ]
  },
  {
   "cell_type": "code",
   "execution_count": 27,
   "metadata": {},
   "outputs": [],
   "source": [
    "## convert HTML to plain text -> beautifulsoup"
   ]
  },
  {
   "cell_type": "code",
   "execution_count": 28,
   "metadata": {},
   "outputs": [],
   "source": [
    "import pandas as pd\n",
    "# df = pd.DataFrame(counter_list)\n",
    "# df.head()"
   ]
  },
  {
   "cell_type": "code",
   "execution_count": 29,
   "metadata": {},
   "outputs": [],
   "source": [
    "# df.fillna(value=0,inplace=True)"
   ]
  },
  {
   "cell_type": "markdown",
   "metadata": {},
   "source": [
    "### Huge amount of features, there is still room for a lot of cleaning\n",
    "### What if we grouped together the words that have kind of the same meaning, like play and playing?"
   ]
  },
  {
   "cell_type": "code",
   "execution_count": 30,
   "metadata": {},
   "outputs": [],
   "source": [
    "import nltk\n",
    "stemmer = nltk.PorterStemmer()\n",
    "\n",
    "\n",
    "def stem_counter(counter_var):\n",
    "    stemmed_word_counts = Counter()\n",
    "    for word, count in counter_var.items():\n",
    "        stemmed_word = stemmer.stem(word)\n",
    "        stemmed_word_counts[stemmed_word] += count\n",
    "        # print(len(stemmed_word_counts))\n",
    "    return stemmed_word_counts\n",
    "\n",
    "# eu quero uma lista dos novos counters\n",
    "# new_counter_list = [stem_counter(counter) for counter in counter_list[:]]\n",
    "   "
   ]
  },
  {
   "cell_type": "code",
   "execution_count": 31,
   "metadata": {
    "tags": []
   },
   "outputs": [],
   "source": [
    "new_counter_list = [stem_counter(counter) for counter in counter_list]"
   ]
  },
  {
   "cell_type": "code",
   "execution_count": 32,
   "metadata": {},
   "outputs": [],
   "source": [
    "# new_counter_list[0]\n"
   ]
  },
  {
   "cell_type": "code",
   "execution_count": 33,
   "metadata": {},
   "outputs": [],
   "source": [
    "import pandas as pd"
   ]
  },
  {
   "cell_type": "code",
   "execution_count": 34,
   "metadata": {},
   "outputs": [
    {
     "data": {
      "text/html": [
       "<div>\n",
       "<style scoped>\n",
       "    .dataframe tbody tr th:only-of-type {\n",
       "        vertical-align: middle;\n",
       "    }\n",
       "\n",
       "    .dataframe tbody tr th {\n",
       "        vertical-align: top;\n",
       "    }\n",
       "\n",
       "    .dataframe thead th {\n",
       "        text-align: right;\n",
       "    }\n",
       "</style>\n",
       "<table border=\"1\" class=\"dataframe\">\n",
       "  <thead>\n",
       "    <tr style=\"text-align: right;\">\n",
       "      <th></th>\n",
       "      <th>tim</th>\n",
       "      <th>about</th>\n",
       "      <th>half</th>\n",
       "      <th>the</th>\n",
       "      <th>develop</th>\n",
       "      <th>on</th>\n",
       "      <th>spambay</th>\n",
       "      <th>project</th>\n",
       "      <th>were</th>\n",
       "      <th>miss</th>\n",
       "      <th>...</th>\n",
       "      <th>emiratesunit</th>\n",
       "      <th>kingdomuruguayuzbekistanvanuatuvatican</th>\n",
       "      <th>cityvenezuelavietnamvirgin</th>\n",
       "      <th>islandsw</th>\n",
       "      <th>futuna</th>\n",
       "      <th>islandswestern</th>\n",
       "      <th>saharayemenyugoslavia</th>\n",
       "      <th>formerzairezambiazimbabwetelephonemobil</th>\n",
       "      <th>workfaxemail</th>\n",
       "      <th>jchoatenewyorkcom</th>\n",
       "    </tr>\n",
       "  </thead>\n",
       "  <tbody>\n",
       "    <tr>\n",
       "      <th>0</th>\n",
       "      <td>6.0</td>\n",
       "      <td>1.0</td>\n",
       "      <td>1.0</td>\n",
       "      <td>3.0</td>\n",
       "      <td>1.0</td>\n",
       "      <td>3.0</td>\n",
       "      <td>1.0</td>\n",
       "      <td>1.0</td>\n",
       "      <td>1.0</td>\n",
       "      <td>1.0</td>\n",
       "      <td>...</td>\n",
       "      <td>NaN</td>\n",
       "      <td>NaN</td>\n",
       "      <td>NaN</td>\n",
       "      <td>NaN</td>\n",
       "      <td>NaN</td>\n",
       "      <td>NaN</td>\n",
       "      <td>NaN</td>\n",
       "      <td>NaN</td>\n",
       "      <td>NaN</td>\n",
       "      <td>NaN</td>\n",
       "    </tr>\n",
       "    <tr>\n",
       "      <th>1</th>\n",
       "      <td>NaN</td>\n",
       "      <td>NaN</td>\n",
       "      <td>NaN</td>\n",
       "      <td>9.0</td>\n",
       "      <td>NaN</td>\n",
       "      <td>1.0</td>\n",
       "      <td>NaN</td>\n",
       "      <td>NaN</td>\n",
       "      <td>NaN</td>\n",
       "      <td>NaN</td>\n",
       "      <td>...</td>\n",
       "      <td>NaN</td>\n",
       "      <td>NaN</td>\n",
       "      <td>NaN</td>\n",
       "      <td>NaN</td>\n",
       "      <td>NaN</td>\n",
       "      <td>NaN</td>\n",
       "      <td>NaN</td>\n",
       "      <td>NaN</td>\n",
       "      <td>NaN</td>\n",
       "      <td>NaN</td>\n",
       "    </tr>\n",
       "    <tr>\n",
       "      <th>2</th>\n",
       "      <td>NaN</td>\n",
       "      <td>1.0</td>\n",
       "      <td>NaN</td>\n",
       "      <td>11.0</td>\n",
       "      <td>NaN</td>\n",
       "      <td>1.0</td>\n",
       "      <td>NaN</td>\n",
       "      <td>NaN</td>\n",
       "      <td>NaN</td>\n",
       "      <td>NaN</td>\n",
       "      <td>...</td>\n",
       "      <td>NaN</td>\n",
       "      <td>NaN</td>\n",
       "      <td>NaN</td>\n",
       "      <td>NaN</td>\n",
       "      <td>NaN</td>\n",
       "      <td>NaN</td>\n",
       "      <td>NaN</td>\n",
       "      <td>NaN</td>\n",
       "      <td>NaN</td>\n",
       "      <td>NaN</td>\n",
       "    </tr>\n",
       "    <tr>\n",
       "      <th>3</th>\n",
       "      <td>NaN</td>\n",
       "      <td>NaN</td>\n",
       "      <td>NaN</td>\n",
       "      <td>17.0</td>\n",
       "      <td>NaN</td>\n",
       "      <td>2.0</td>\n",
       "      <td>NaN</td>\n",
       "      <td>NaN</td>\n",
       "      <td>NaN</td>\n",
       "      <td>NaN</td>\n",
       "      <td>...</td>\n",
       "      <td>NaN</td>\n",
       "      <td>NaN</td>\n",
       "      <td>NaN</td>\n",
       "      <td>NaN</td>\n",
       "      <td>NaN</td>\n",
       "      <td>NaN</td>\n",
       "      <td>NaN</td>\n",
       "      <td>NaN</td>\n",
       "      <td>NaN</td>\n",
       "      <td>NaN</td>\n",
       "    </tr>\n",
       "    <tr>\n",
       "      <th>4</th>\n",
       "      <td>NaN</td>\n",
       "      <td>NaN</td>\n",
       "      <td>NaN</td>\n",
       "      <td>3.0</td>\n",
       "      <td>NaN</td>\n",
       "      <td>1.0</td>\n",
       "      <td>NaN</td>\n",
       "      <td>NaN</td>\n",
       "      <td>NaN</td>\n",
       "      <td>NaN</td>\n",
       "      <td>...</td>\n",
       "      <td>NaN</td>\n",
       "      <td>NaN</td>\n",
       "      <td>NaN</td>\n",
       "      <td>NaN</td>\n",
       "      <td>NaN</td>\n",
       "      <td>NaN</td>\n",
       "      <td>NaN</td>\n",
       "      <td>NaN</td>\n",
       "      <td>NaN</td>\n",
       "      <td>NaN</td>\n",
       "    </tr>\n",
       "  </tbody>\n",
       "</table>\n",
       "<p>5 rows × 50172 columns</p>\n",
       "</div>"
      ],
      "text/plain": [
       "   tim  about  half   the  develop   on  spambay  project  were  miss  ...  \\\n",
       "0  6.0    1.0   1.0   3.0      1.0  3.0      1.0      1.0   1.0   1.0  ...   \n",
       "1  NaN    NaN   NaN   9.0      NaN  1.0      NaN      NaN   NaN   NaN  ...   \n",
       "2  NaN    1.0   NaN  11.0      NaN  1.0      NaN      NaN   NaN   NaN  ...   \n",
       "3  NaN    NaN   NaN  17.0      NaN  2.0      NaN      NaN   NaN   NaN  ...   \n",
       "4  NaN    NaN   NaN   3.0      NaN  1.0      NaN      NaN   NaN   NaN  ...   \n",
       "\n",
       "   emiratesunit  kingdomuruguayuzbekistanvanuatuvatican  \\\n",
       "0           NaN                                     NaN   \n",
       "1           NaN                                     NaN   \n",
       "2           NaN                                     NaN   \n",
       "3           NaN                                     NaN   \n",
       "4           NaN                                     NaN   \n",
       "\n",
       "   cityvenezuelavietnamvirgin  islandsw  futuna  islandswestern  \\\n",
       "0                         NaN       NaN     NaN             NaN   \n",
       "1                         NaN       NaN     NaN             NaN   \n",
       "2                         NaN       NaN     NaN             NaN   \n",
       "3                         NaN       NaN     NaN             NaN   \n",
       "4                         NaN       NaN     NaN             NaN   \n",
       "\n",
       "   saharayemenyugoslavia  formerzairezambiazimbabwetelephonemobil  \\\n",
       "0                    NaN                                      NaN   \n",
       "1                    NaN                                      NaN   \n",
       "2                    NaN                                      NaN   \n",
       "3                    NaN                                      NaN   \n",
       "4                    NaN                                      NaN   \n",
       "\n",
       "   workfaxemail  jchoatenewyorkcom  \n",
       "0           NaN                NaN  \n",
       "1           NaN                NaN  \n",
       "2           NaN                NaN  \n",
       "3           NaN                NaN  \n",
       "4           NaN                NaN  \n",
       "\n",
       "[5 rows x 50172 columns]"
      ]
     },
     "execution_count": 34,
     "metadata": {},
     "output_type": "execute_result"
    }
   ],
   "source": [
    "df = pd.DataFrame(new_counter_list)\n",
    "df.head()"
   ]
  },
  {
   "cell_type": "markdown",
   "metadata": {},
   "source": [
    "### Well, that was a nice improvement, from 58426 to 50172, features, we reduced it by 15% percent."
   ]
  },
  {
   "cell_type": "code",
   "execution_count": 35,
   "metadata": {},
   "outputs": [],
   "source": [
    "df.fillna(value=0,inplace=True)"
   ]
  },
  {
   "cell_type": "code",
   "execution_count": 36,
   "metadata": {},
   "outputs": [],
   "source": [
    "from sklearn.model_selection import train_test_split\n",
    "X = df\n",
    "# y = y\n",
    "X_train, X_test, y_train, y_test = train_test_split(X, y, test_size=0.2, random_state=42)\n"
   ]
  },
  {
   "cell_type": "code",
   "execution_count": null,
   "metadata": {},
   "outputs": [
    {
     "name": "stderr",
     "output_type": "stream",
     "text": [
      "[Parallel(n_jobs=1)]: Using backend SequentialBackend with 1 concurrent workers.\n"
     ]
    },
    {
     "name": "stdout",
     "output_type": "stream",
     "text": [
      "[CV]  ................................................................\n"
     ]
    }
   ],
   "source": [
    "from sklearn.linear_model import LogisticRegression\n",
    "from sklearn.model_selection import cross_val_score\n",
    "# log_clf = LogisticRegression(solver=\"lbfgs\", max_iter=10, random_state=42)\n",
    "# log_clf.fit(X_train,y_train)\n",
    "log_clf = LogisticRegression(solver=\"lbfgs\", max_iter=100, random_state=42)\n",
    "score = cross_val_score(log_clf, X_train, y_train, cv=3, verbose=3)\n",
    "score.mean()"
   ]
  },
  {
   "cell_type": "code",
   "execution_count": null,
   "metadata": {},
   "outputs": [],
   "source": []
  }
 ],
 "metadata": {
  "kernelspec": {
   "display_name": "Python 3",
   "language": "python",
   "name": "python3"
  },
  "language_info": {
   "codemirror_mode": {
    "name": "ipython",
    "version": 3
   },
   "file_extension": ".py",
   "mimetype": "text/x-python",
   "name": "python",
   "nbconvert_exporter": "python",
   "pygments_lexer": "ipython3",
   "version": "3.8.5"
  },
  "metadata": {
   "interpreter": {
    "hash": "00e6996aa542c6b116e8c42dcc4a8b5b9e1c7411c0569bbe48eab7d765763188"
   }
  }
 },
 "nbformat": 4,
 "nbformat_minor": 2
}
