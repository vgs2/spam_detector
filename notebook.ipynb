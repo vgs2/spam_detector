{
 "metadata": {
  "language_info": {
   "codemirror_mode": {
    "name": "ipython",
    "version": 3
   },
   "file_extension": ".py",
   "mimetype": "text/x-python",
   "name": "python",
   "nbconvert_exporter": "python",
   "pygments_lexer": "ipython3",
   "version": "3.8.5"
  },
  "orig_nbformat": 2,
  "kernelspec": {
   "name": "python3",
   "display_name": "Python 3",
   "language": "python"
  }
 },
 "nbformat": 4,
 "nbformat_minor": 2,
 "cells": [
  {
   "source": [
    "# Spam detection Data Science Project\n",
    "This project was inspired by the Chapter 3 exercises of the book 'Hands on Machine Learning' by Aurelien Geron, if you are new to Machile learning / Data Science, I highly recommend the book<br>\n",
    "In order to make this project, I followed the line of thought present on the following link, by the same author cited above: https://github.com/ageron/handson-ml2/blob/master/03_classification.ipynb<br>\n",
    "https://towardsdatascience.com/spam-detection-in-emails-de0398ea3b48\n",
    "I avoided copying the above code, because doing so would hinder my learning, so if you want to check a better solution, you should check the link above<br>\n",
    "The used dataset can be found in the following link: https://spamassassin.apache.org/old/publiccorpus/\n"
   ],
   "cell_type": "markdown",
   "metadata": {}
  },
  {
   "source": [
    "## First, letś import the data"
   ],
   "cell_type": "markdown",
   "metadata": {}
  },
  {
   "cell_type": "code",
   "execution_count": 2,
   "metadata": {},
   "outputs": [],
   "source": [
    "import os"
   ]
  },
  {
   "cell_type": "code",
   "execution_count": 18,
   "metadata": {},
   "outputs": [],
   "source": [
    "SPAM_PATH = './data/spam'\n",
    "HAM_PATH = './data/easy_ham'"
   ]
  },
  {
   "cell_type": "code",
   "execution_count": 27,
   "metadata": {},
   "outputs": [],
   "source": [
    "spam_filenames = os.listdir('./data/spam')\n",
    "ham_filenames = os.listdir('./data/easy_ham')\n",
    "# spam_filenames"
   ]
  },
  {
   "cell_type": "code",
   "execution_count": 28,
   "metadata": {},
   "outputs": [],
   "source": [
    "import email\n",
    "import email.policy\n",
    "\n",
    "def load_email(filename, folder_path):\n",
    "    with open(os.path.join(folder_path, filename), \"rb\") as f:\n",
    "        return email.parser.BytesParser(policy=email.policy.default).parse(f)"
   ]
  },
  {
   "cell_type": "code",
   "execution_count": 29,
   "metadata": {},
   "outputs": [],
   "source": [
    "ham_emails = [load_email(filename=name, folder_path=HAM_PATH) for name in ham_filenames]\n",
    "spam_emails = [load_email(filename=name, folder_path=SPAM_PATH) for name in spam_filenames]"
   ]
  },
  {
   "source": [
    "## Now it is time to clean the data. Here are some of the things that we should do: <br>1-Lowering Case<br>-Removing hyperlinks<br>Removing special characters<br>Removing stop words"
   ],
   "cell_type": "markdown",
   "metadata": {}
  },
  {
   "cell_type": "code",
   "execution_count": 49,
   "metadata": {},
   "outputs": [
    {
     "output_type": "stream",
     "name": "stdout",
     "text": [
      "use Perl Daily Headline Mailer\n\nInstalling Perl 5.8.0 on Mac OS X 10.2\n    posted by pudge on Thursday August 29, @15:03 (releases)\n    http://use.perl.org/article.pl?sid=02/08/29/193225\n\n\n\n\nCopyright 1997-2002 pudge.  All rights reserved.\n\n\n======================================================================\n\nYou have received this message because you subscribed to it\non use Perl.  To stop receiving this and other\nmessages from use Perl, or to add more messages\nor change your preferences, please go to your user page.\n\n\thttp://use.perl.org/my/messages/\n\nYou can log in and change your preferences from there.\n"
     ]
    }
   ],
   "source": [
    "print(ham_emails[0].get_content().strip())"
   ]
  },
  {
   "cell_type": "code",
   "execution_count": 32,
   "metadata": {},
   "outputs": [
    {
     "output_type": "execute_result",
     "data": {
      "text/plain": [
       "\"URL: http://boingboing.net/#85515879\\nDate: Not supplied\\n\\nDismuke has a 24 hour radio station and RealAudio archive of '20s and '30s \\nmusic. Some nice stuff in here. (Also check out my favorite music archive, Red \\nHot Jazz[1].) Link[2] Discuss[3]\\n\\n[1] http://boingboing.net/redhotjazz.com\\n[2] http://dismuke.org/\\n[3] http://www.quicktopic.com/16/H/xywUUftYHEg\\n\\n\\n\""
      ]
     },
     "metadata": {},
     "execution_count": 32
    }
   ],
   "source": [
    "ham_emails[1].get_payload()"
   ]
  },
  {
   "cell_type": "code",
   "execution_count": 44,
   "metadata": {},
   "outputs": [],
   "source": [
    "def get_email_structure(email):\n",
    "    if isinstance(email, str):\n",
    "        return email\n",
    "    payload = email.get_payload()\n",
    "    if isinstance(payload, list):\n",
    "        return \"multipart({})\".format(\", \".join([\n",
    "            get_email_structure(sub_email)\n",
    "            for sub_email in payload\n",
    "        ]))\n",
    "    else:\n",
    "        return email.get_content_type()"
   ]
  },
  {
   "cell_type": "code",
   "execution_count": 41,
   "metadata": {},
   "outputs": [],
   "source": [
    "def get_email_structure(email):\n",
    "    return email.get_content_type()"
   ]
  },
  {
   "cell_type": "code",
   "execution_count": 42,
   "metadata": {},
   "outputs": [],
   "source": [
    "from collections import Counter\n",
    "\n",
    "def structures_counter(emails):\n",
    "    structures = Counter()\n",
    "    for email in emails:\n",
    "        structure = get_email_structure(email)\n",
    "        structures[structure] += 1\n",
    "    return structures"
   ]
  },
  {
   "cell_type": "code",
   "execution_count": 43,
   "metadata": {},
   "outputs": [
    {
     "output_type": "execute_result",
     "data": {
      "text/plain": [
       "[('text/plain', 2453),\n",
       " ('multipart/signed', 74),\n",
       " ('multipart/mixed', 10),\n",
       " ('multipart/alternative', 9),\n",
       " ('multipart/related', 3),\n",
       " ('multipart/report', 2)]"
      ]
     },
     "metadata": {},
     "execution_count": 43
    }
   ],
   "source": [
    "structures_counter(ham_emails).most_common()"
   ]
  },
  {
   "cell_type": "code",
   "execution_count": 45,
   "metadata": {},
   "outputs": [
    {
     "output_type": "execute_result",
     "data": {
      "text/plain": [
       "[('text/plain', 2453),\n",
       " ('multipart(text/plain, application/pgp-signature)', 72),\n",
       " ('multipart(text/plain, text/html)', 8),\n",
       " ('multipart(text/plain, text/plain)', 4),\n",
       " ('multipart(text/plain)', 3),\n",
       " ('multipart(text/plain, application/octet-stream)', 2),\n",
       " ('multipart(text/plain, multipart(text/plain))', 1),\n",
       " ('multipart(text/plain, multipart(text/plain, text/plain), multipart(multipart(text/plain, application/x-pkcs7-signature)))',\n",
       "  1),\n",
       " ('multipart(text/plain, application/x-java-applet)', 1),\n",
       " ('multipart(multipart(text/plain, text/plain, text/plain), application/pgp-signature)',\n",
       "  1),\n",
       " ('multipart(text/plain, multipart(text/plain, text/plain), text/rfc822-headers)',\n",
       "  1),\n",
       " ('multipart(text/plain, video/mng)', 1),\n",
       " ('multipart(text/plain, application/ms-tnef, text/plain)', 1),\n",
       " ('multipart(text/plain, application/x-pkcs7-signature)', 1),\n",
       " ('multipart(text/plain, text/enriched)', 1)]"
      ]
     },
     "metadata": {},
     "execution_count": 45
    }
   ],
   "source": [
    "structures_counter(ham_emails).most_common()"
   ]
  },
  {
   "cell_type": "code",
   "execution_count": null,
   "metadata": {},
   "outputs": [],
   "source": []
  },
  {
   "cell_type": "code",
   "execution_count": 61,
   "metadata": {},
   "outputs": [],
   "source": [
    "# what do i wanna do,\n",
    "def get_body(email):\n",
    "    if email.is_multipart():\n",
    "        for a in email.get_payload():\n",
    "            \n",
    "    else: return email.get_payload()"
   ]
  },
  {
   "cell_type": "code",
   "execution_count": 59,
   "metadata": {},
   "outputs": [
    {
     "output_type": "execute_result",
     "data": {
      "text/plain": [
       "<email.message.EmailMessage at 0x7fcb3c5cd730>"
      ]
     },
     "metadata": {},
     "execution_count": 59
    }
   ],
   "source": [
    "ham_emails[3].get_payload()[1]"
   ]
  },
  {
   "cell_type": "code",
   "execution_count": 46,
   "metadata": {},
   "outputs": [],
   "source": [
    "## Analysing the headers"
   ]
  },
  {
   "cell_type": "code",
   "execution_count": null,
   "metadata": {},
   "outputs": [],
   "source": [
    "## convert HTML to plain text -> beautifulsoup"
   ]
  },
  {
   "cell_type": "code",
   "execution_count": null,
   "metadata": {},
   "outputs": [],
   "source": [
    "## "
   ]
  }
 ]
}