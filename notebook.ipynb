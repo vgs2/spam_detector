{
 "metadata": {
  "language_info": {
   "codemirror_mode": {
    "name": "ipython",
    "version": 3
   },
   "file_extension": ".py",
   "mimetype": "text/x-python",
   "name": "python",
   "nbconvert_exporter": "python",
   "pygments_lexer": "ipython3",
   "version": "3.8.5"
  },
  "orig_nbformat": 2,
  "kernelspec": {
   "name": "python385jvsc74a57bd000e6996aa542c6b116e8c42dcc4a8b5b9e1c7411c0569bbe48eab7d765763188",
   "display_name": "Python 3.8.5 64-bit ('base': conda)"
  },
  "metadata": {
   "interpreter": {
    "hash": "00e6996aa542c6b116e8c42dcc4a8b5b9e1c7411c0569bbe48eab7d765763188"
   }
  }
 },
 "nbformat": 4,
 "nbformat_minor": 2,
 "cells": [
  {
   "source": [
    "# Spam detection Data Science Project\n",
    "This project was inspired by the Chapter 3 exercises of the book 'Hands on Machine Learning' by Aurelien Geron, if you are new to Machile learning / Data Science, I highly recommend the book<br>\n",
    "In order to make this project, I followed the line of thought present on the following link, by the same author cited above: https://github.com/ageron/handson-ml2/blob/master/03_classification.ipynb<br>\n",
    "https://towardsdatascience.com/spam-detection-in-emails-de0398ea3b48\n",
    "I avoided copying the above code, because doing so would hinder my learning, so if you want to check a better solution, you should check the link above<br>\n",
    "The used dataset can be found in the following link: https://spamassassin.apache.org/old/publiccorpus/\n"
   ],
   "cell_type": "markdown",
   "metadata": {}
  },
  {
   "source": [
    "## First, let's import the data"
   ],
   "cell_type": "markdown",
   "metadata": {}
  },
  {
   "cell_type": "code",
   "execution_count": 2,
   "metadata": {},
   "outputs": [],
   "source": [
    "import os\n",
    "import re"
   ]
  },
  {
   "cell_type": "code",
   "execution_count": 3,
   "metadata": {},
   "outputs": [],
   "source": [
    "SPAM_PATH = './data/spam'\n",
    "HAM_PATH = './data/easy_ham'"
   ]
  },
  {
   "cell_type": "code",
   "execution_count": 4,
   "metadata": {},
   "outputs": [],
   "source": [
    "spam_filenames = os.listdir('./data/spam')\n",
    "ham_filenames = os.listdir('./data/easy_ham')\n",
    "# spam_filenames"
   ]
  },
  {
   "cell_type": "code",
   "execution_count": 5,
   "metadata": {},
   "outputs": [],
   "source": [
    "import email\n",
    "import email.policy\n",
    "\n",
    "def load_email(filename, folder_path):\n",
    "    with open(os.path.join(folder_path, filename), \"rb\") as f:\n",
    "        return email.parser.BytesParser(policy=email.policy.default).parse(f)"
   ]
  },
  {
   "cell_type": "code",
   "execution_count": 6,
   "metadata": {},
   "outputs": [],
   "source": [
    "ham_emails = [load_email(filename=name, folder_path=HAM_PATH) for name in ham_filenames]\n",
    "spam_emails = [load_email(filename=name, folder_path=SPAM_PATH) for name in spam_filenames]"
   ]
  },
  {
   "source": [
    "## Now it is time to clean the data. We need to remove hyperlinks, special characters and other stuff as well"
   ],
   "cell_type": "markdown",
   "metadata": {}
  },
  {
   "cell_type": "code",
   "execution_count": 7,
   "metadata": {},
   "outputs": [
    {
     "output_type": "stream",
     "name": "stdout",
     "text": [
      "use Perl Daily Headline Mailer\n\nInstalling Perl 5.8.0 on Mac OS X 10.2\n    posted by pudge on Thursday August 29, @15:03 (releases)\n    http://use.perl.org/article.pl?sid=02/08/29/193225\n\n\n\n\nCopyright 1997-2002 pudge.  All rights reserved.\n\n\n======================================================================\n\nYou have received this message because you subscribed to it\non use Perl.  To stop receiving this and other\nmessages from use Perl, or to add more messages\nor change your preferences, please go to your user page.\n\n\thttp://use.perl.org/my/messages/\n\nYou can log in and change your preferences from there.\n"
     ]
    }
   ],
   "source": [
    "print(ham_emails[0].get_content().strip())"
   ]
  },
  {
   "cell_type": "code",
   "execution_count": 8,
   "metadata": {},
   "outputs": [
    {
     "output_type": "execute_result",
     "data": {
      "text/plain": [
       "\"URL: http://boingboing.net/#85515879\\nDate: Not supplied\\n\\nDismuke has a 24 hour radio station and RealAudio archive of '20s and '30s \\nmusic. Some nice stuff in here. (Also check out my favorite music archive, Red \\nHot Jazz[1].) Link[2] Discuss[3]\\n\\n[1] http://boingboing.net/redhotjazz.com\\n[2] http://dismuke.org/\\n[3] http://www.quicktopic.com/16/H/xywUUftYHEg\\n\\n\\n\""
      ]
     },
     "metadata": {},
     "execution_count": 8
    }
   ],
   "source": [
    "ham_emails[1].get_payload()"
   ]
  },
  {
   "cell_type": "code",
   "execution_count": null,
   "metadata": {},
   "outputs": [],
   "source": []
  },
  {
   "cell_type": "code",
   "execution_count": 9,
   "metadata": {},
   "outputs": [],
   "source": [
    "def get_email_body(emailobj):\n",
    "    \"\"\" Return the body of the email, preferably in text.\n",
    "    \"\"\"\n",
    "\n",
    "    def _get_body(emailobj):\n",
    "        \"\"\" Return the first text/plain body found if the email is multipart\n",
    "        or just the regular payload otherwise.\n",
    "        \"\"\"\n",
    "        if emailobj.is_multipart():\n",
    "            for payload in emailobj.get_payload():\n",
    "                # If the message comes with a signature it can be that this\n",
    "                # payload itself has multiple parts, so just return the\n",
    "                # first one\n",
    "                if payload.is_multipart():\n",
    "                    return _get_body(payload)\n",
    "\n",
    "                body = payload.get_payload()\n",
    "                if payload.get_content_type() == \"text/plain\":\n",
    "                    return body\n",
    "        else:\n",
    "            return emailobj.get_payload()\n",
    "\n",
    "    body = _get_body(emailobj)\n",
    "\n",
    "    enc = emailobj[\"Content-Transfer-Encoding\"]\n",
    "    if enc == \"base64\":\n",
    "        body = base64.decodestring(body)\n",
    "\n",
    "    return body "
   ]
  },
  {
   "cell_type": "code",
   "execution_count": 10,
   "metadata": {},
   "outputs": [],
   "source": [
    "def clean_body(email):\n",
    "    to_clean = ['\\n', '@', '=', '!', '.', ',', '\\'', ';', '(', ')', '<','>', ':','?', '\"', '*', '1', '2', '3' ,  '4', '5', '6', '7', '8', '9','0']\n",
    "    to_space = ['-','_','/']\n",
    "    result = re.sub(r\"http\\S+\", \"\", email)\n",
    "    # result = result.split()\n",
    "    for sub in to_clean: result=result.replace(sub,\"\")\n",
    "    for sub in to_space: result= result.replace(sub,' ')\n",
    "    result = ' '.join(word for word in result.split(' ') if not word.startswith(('/', '%', 'r`')))\n",
    "    # result = ''.join(digit for digit in result if not digit.isdigit())\n",
    "    result = result.lower()\n",
    "\n",
    "    \n",
    "    return result"
   ]
  },
  {
   "cell_type": "code",
   "execution_count": 14,
   "metadata": {},
   "outputs": [
    {
     "output_type": "stream",
     "name": "stdout",
     "text": [
      "CPU times: user 828 µs, sys: 54 µs, total: 882 µs\nWall time: 889 µs\n"
     ]
    },
    {
     "output_type": "execute_result",
     "data": {
      "text/plain": [
       "'matthias saou wrote  i guess hope some other people from the list will try it out     both problems you reported libasoundso and wrong xine dependency are now  fixed in the current packages   oh its maybe also worth pointing out  ive implemented at last sorting  by both last change date and alphabetically for my build list in the php  code     and yes i accept patches comments suggestions about all those spec filessure thing ive added to the spec some flags to remove oss and isa pnp support atbuild time if one wishes to so iss possible to do a\\trpmbuild   recompile rpm   without oss   without isapnpi havent included oss in my  because vt on my motherboardis not supported  yet and im too lazy to recompile the kernel also having the kernel compiled by me i have no kernel source packageinstalled  ive added a flag kernsrc that also can be used  without to remove the dependency for kernel source at build time  itwould be nice to check the correct kernel include files actually exist lib modules `uname  build include linux h though however ima beginner in rpm building    is it possible to buildrequire for a filenot provided by a package at all  ive googled a bit and found no wayto do thati was also considering adding some sort of flag for the   with cardsoption in alsas  configure but dont know how to do that  only foundout about   without from your first alsa driverspec and existing rpm docs dont help muchoh and one more thing   at first ive installed the first version ofalsa driver for   although i dont have that kernel to supplythe dependency for the rest of the alsa rpms and compiled the modulesfrom source  it created the  dev files and allthen wanted to make my own rpm for  so now im trying to rpmbuildthe alsa kernel package  removed all alsa rpms and tried my specrpmbuild   ba alsa driverspecmine   without oss   without isapnp  without kernsrcbut i get this[long successful compile snipped]warning file listed twice  dev adspwarning file listed twice  dev amidifinding  provides  usr lib rpm find providesfinding  requires  usr lib rpm find requiresprereq  bin sh  bin sh rpmlibpayloadfileshaveprefix   rpmlibcompressedfilenames   requiresinterp  bin sh  bin shrequiresrpmlib rpmlibpayloadfileshaveprefix   rpmlibcompressedfilenames   requirespost  bin shrequirespostun  bin shrequires alsa kernel  rc  sbin depmodprocessing files alsa kernel rc fr finding  provides  usr lib rpm find providesfinding  requires  usr lib rpm find requiresprereq rpmlibpayloadfileshaveprefix   rpmlibcompressedfilenames   requiresrpmlib rpmlibpayloadfileshaveprefix   rpmlibcompressedfilenames   requires alsa driver  rc kernel  checking for unpackaged files  usr lib rpm check files var tmp alsa driver rc rooterror installed but unpackaged files found      etc makedevd macros      etc rcd initd alsasoundrpm build errors      file listed twice  dev adsp      file listed twice  dev amidi      installed but unpackaged files found      etc makedevd macros      etc rcd initd alsasoundlike i said im a beginned with rpm building so i dont understandmuch of whats going on here  the macros file is from the makedevrpm and alsasound was supposed to be installed by alsa driver i think   it is not in the filesystem anywayive looked in  var tmp alsa driver rc root they are there inetc  for macros i think the part that does it is this linein alsa driverspeccp  a sysconfdir} makedevd macros  {buildroot}%{ sysconfdir} makedevd and alsasound is installed by makefileoh and i think ive forgot to mention im running beta null   matthias silent    and on the seventh day god was arrested for tresspassing'"
      ]
     },
     "metadata": {},
     "execution_count": 14
    }
   ],
   "source": [
    "%%time\n",
    "clean_email = clean_body(get_email_body(ham_emails[3])).strip()\n",
    "clean_email\n",
    "# get_email_body(ham_emails[3])"
   ]
  },
  {
   "cell_type": "code",
   "execution_count": null,
   "metadata": {},
   "outputs": [],
   "source": [
    "clean"
   ]
  },
  {
   "cell_type": "code",
   "execution_count": 16,
   "metadata": {},
   "outputs": [
    {
     "output_type": "execute_result",
     "data": {
      "text/plain": [
       "Counter({'matthias': 2,\n",
       "         'saou': 1,\n",
       "         'wrote': 1,\n",
       "         'i': 10,\n",
       "         'guess': 1,\n",
       "         'hope': 1,\n",
       "         'some': 3,\n",
       "         'other': 1,\n",
       "         'people': 1,\n",
       "         'from': 3,\n",
       "         'the': 19,\n",
       "         'list': 2,\n",
       "         'will': 1,\n",
       "         'try': 1,\n",
       "         'it': 5,\n",
       "         'out': 2,\n",
       "         'both': 2,\n",
       "         'problems': 1,\n",
       "         'you': 1,\n",
       "         'reported': 1,\n",
       "         'libasoundso': 1,\n",
       "         'and': 15,\n",
       "         'wrong': 1,\n",
       "         'xine': 1,\n",
       "         'dependency': 3,\n",
       "         'are': 2,\n",
       "         'now': 2,\n",
       "         'fixed': 1,\n",
       "         'in': 7,\n",
       "         'current': 1,\n",
       "         'packages': 1,\n",
       "         'oh': 1,\n",
       "         'its': 1,\n",
       "         'maybe': 1,\n",
       "         'also': 4,\n",
       "         'worth': 1,\n",
       "         'pointing': 1,\n",
       "         'ive': 6,\n",
       "         'implemented': 1,\n",
       "         'at': 4,\n",
       "         'last': 2,\n",
       "         'sorting': 1,\n",
       "         'by': 5,\n",
       "         'change': 1,\n",
       "         'date': 1,\n",
       "         'alphabetically': 1,\n",
       "         'for': 10,\n",
       "         'my': 5,\n",
       "         'build': 4,\n",
       "         'php': 1,\n",
       "         'code': 1,\n",
       "         'yes': 1,\n",
       "         'accept': 1,\n",
       "         'patches': 1,\n",
       "         'comments': 1,\n",
       "         'suggestions': 1,\n",
       "         'about': 2,\n",
       "         'all': 3,\n",
       "         'those': 1,\n",
       "         'spec': 2,\n",
       "         'filessure': 1,\n",
       "         'thing': 2,\n",
       "         'added': 2,\n",
       "         'to': 14,\n",
       "         'flags': 1,\n",
       "         'remove': 2,\n",
       "         'oss': 4,\n",
       "         'isa': 1,\n",
       "         'pnp': 1,\n",
       "         'support': 1,\n",
       "         'atbuild': 1,\n",
       "         'time': 2,\n",
       "         'if': 1,\n",
       "         'one': 2,\n",
       "         'wishes': 1,\n",
       "         'so': 3,\n",
       "         'iss': 1,\n",
       "         'possible': 2,\n",
       "         'do': 3,\n",
       "         'a': 7,\n",
       "         'rpmbuild': 1,\n",
       "         'recompile': 2,\n",
       "         'rpm': 10,\n",
       "         'without': 7,\n",
       "         'isapnpi': 1,\n",
       "         'havent': 1,\n",
       "         'included': 1,\n",
       "         'because': 1,\n",
       "         'vt': 1,\n",
       "         'on': 3,\n",
       "         'motherboardis': 1,\n",
       "         'not': 2,\n",
       "         'supported': 1,\n",
       "         'yet': 1,\n",
       "         'im': 4,\n",
       "         'too': 1,\n",
       "         'lazy': 1,\n",
       "         'kernel': 10,\n",
       "         'having': 1,\n",
       "         'compiled': 2,\n",
       "         'me': 1,\n",
       "         'have': 2,\n",
       "         'no': 2,\n",
       "         'source': 3,\n",
       "         'packageinstalled': 1,\n",
       "         'flag': 2,\n",
       "         'kernsrc': 1,\n",
       "         'that': 4,\n",
       "         'can': 1,\n",
       "         'be': 3,\n",
       "         'used': 1,\n",
       "         'itwould': 1,\n",
       "         'nice': 1,\n",
       "         'check': 2,\n",
       "         'correct': 1,\n",
       "         'include': 2,\n",
       "         'files': 7,\n",
       "         'actually': 1,\n",
       "         'exist': 1,\n",
       "         'lib': 6,\n",
       "         'modules': 1,\n",
       "         '`uname': 1,\n",
       "         'linux': 1,\n",
       "         'h': 1,\n",
       "         'though': 1,\n",
       "         'however': 1,\n",
       "         'ima': 1,\n",
       "         'beginner': 1,\n",
       "         'building': 2,\n",
       "         'is': 5,\n",
       "         'buildrequire': 1,\n",
       "         'filenot': 1,\n",
       "         'provided': 1,\n",
       "         'package': 2,\n",
       "         'googled': 1,\n",
       "         'bit': 1,\n",
       "         'found': 3,\n",
       "         'wayto': 1,\n",
       "         'thati': 1,\n",
       "         'was': 3,\n",
       "         'considering': 1,\n",
       "         'adding': 1,\n",
       "         'sort': 1,\n",
       "         'of': 3,\n",
       "         'with': 2,\n",
       "         'cardsoption': 1,\n",
       "         'alsas': 1,\n",
       "         'configure': 1,\n",
       "         'but': 3,\n",
       "         'dont': 4,\n",
       "         'know': 1,\n",
       "         'how': 1,\n",
       "         'only': 1,\n",
       "         'foundout': 1,\n",
       "         'your': 1,\n",
       "         'first': 3,\n",
       "         'alsa': 12,\n",
       "         'driverspec': 1,\n",
       "         'existing': 1,\n",
       "         'docs': 1,\n",
       "         'help': 1,\n",
       "         'muchoh': 1,\n",
       "         'more': 1,\n",
       "         'installed': 5,\n",
       "         'version': 1,\n",
       "         'ofalsa': 1,\n",
       "         'driver': 5,\n",
       "         'although': 1,\n",
       "         'supplythe': 1,\n",
       "         'rest': 1,\n",
       "         'rpms': 2,\n",
       "         'modulesfrom': 1,\n",
       "         'created': 1,\n",
       "         'dev': 5,\n",
       "         'allthen': 1,\n",
       "         'wanted': 1,\n",
       "         'make': 1,\n",
       "         'own': 1,\n",
       "         'trying': 1,\n",
       "         'rpmbuildthe': 1,\n",
       "         'removed': 1,\n",
       "         'tried': 1,\n",
       "         'specrpmbuild': 1,\n",
       "         'ba': 1,\n",
       "         'driverspecmine': 1,\n",
       "         'isapnp': 1,\n",
       "         'kernsrcbut': 1,\n",
       "         'get': 1,\n",
       "         'this[long': 1,\n",
       "         'successful': 1,\n",
       "         'compile': 1,\n",
       "         'snipped]warning': 1,\n",
       "         'file': 5,\n",
       "         'listed': 4,\n",
       "         'twice': 4,\n",
       "         'adspwarning': 1,\n",
       "         'amidifinding': 1,\n",
       "         'provides': 2,\n",
       "         'usr': 5,\n",
       "         'find': 4,\n",
       "         'providesfinding': 2,\n",
       "         'requires': 3,\n",
       "         'requiresprereq': 2,\n",
       "         'bin': 6,\n",
       "         'sh': 3,\n",
       "         'rpmlibpayloadfileshaveprefix': 4,\n",
       "         'rpmlibcompressedfilenames': 4,\n",
       "         'requiresinterp': 1,\n",
       "         'shrequiresrpmlib': 1,\n",
       "         'requirespost': 1,\n",
       "         'shrequirespostun': 1,\n",
       "         'shrequires': 1,\n",
       "         'rc': 5,\n",
       "         'sbin': 1,\n",
       "         'depmodprocessing': 1,\n",
       "         'fr': 1,\n",
       "         'finding': 1,\n",
       "         'requiresrpmlib': 1,\n",
       "         'checking': 1,\n",
       "         'unpackaged': 3,\n",
       "         'var': 2,\n",
       "         'tmp': 2,\n",
       "         'rooterror': 1,\n",
       "         'etc': 4,\n",
       "         'makedevd': 4,\n",
       "         'macros': 5,\n",
       "         'rcd': 2,\n",
       "         'initd': 2,\n",
       "         'alsasoundrpm': 1,\n",
       "         'errors': 1,\n",
       "         'adsp': 1,\n",
       "         'amidi': 1,\n",
       "         'alsasoundlike': 1,\n",
       "         'said': 1,\n",
       "         'beginned': 1,\n",
       "         'understandmuch': 1,\n",
       "         'whats': 1,\n",
       "         'going': 1,\n",
       "         'here': 1,\n",
       "         'makedevrpm': 1,\n",
       "         'alsasound': 2,\n",
       "         'supposed': 1,\n",
       "         'think': 3,\n",
       "         'filesystem': 1,\n",
       "         'anywayive': 1,\n",
       "         'looked': 1,\n",
       "         'root': 1,\n",
       "         'they': 1,\n",
       "         'there': 1,\n",
       "         'inetc': 1,\n",
       "         'part': 1,\n",
       "         'does': 1,\n",
       "         'this': 1,\n",
       "         'linein': 1,\n",
       "         'driverspeccp': 1,\n",
       "         'sysconfdir}': 2,\n",
       "         '{buildroot}%{': 1,\n",
       "         'makefileoh': 1,\n",
       "         'forgot': 1,\n",
       "         'mention': 1,\n",
       "         'running': 1,\n",
       "         'beta': 1,\n",
       "         'null': 1,\n",
       "         'silent': 1,\n",
       "         'seventh': 1,\n",
       "         'day': 1,\n",
       "         'god': 1,\n",
       "         'arrested': 1,\n",
       "         'tresspassing': 1})"
      ]
     },
     "metadata": {},
     "execution_count": 16
    }
   ],
   "source": [
    "from collections import Counter\n",
    "count = Counter(clean_email.split())\n",
    "count"
   ]
  },
  {
   "cell_type": "code",
   "execution_count": null,
   "metadata": {},
   "outputs": [],
   "source": [
    "#para todo email vamos rodar o clean e o counter"
   ]
  },
  {
   "cell_type": "code",
   "execution_count": 17,
   "metadata": {},
   "outputs": [],
   "source": [
    "counter_list = [Counter(clean_body(get_email_body(email)).strip().split()) for email in ham_emails]"
   ]
  },
  {
   "cell_type": "code",
   "execution_count": 18,
   "metadata": {},
   "outputs": [
    {
     "output_type": "execute_result",
     "data": {
      "text/plain": [
       "Counter({'use': 3,\n",
       "         'perl': 4,\n",
       "         'daily': 1,\n",
       "         'headline': 1,\n",
       "         'mailerinstalling': 1,\n",
       "         'on': 2,\n",
       "         'mac': 1,\n",
       "         'os': 1,\n",
       "         'x': 1,\n",
       "         'posted': 1,\n",
       "         'by': 1,\n",
       "         'pudge': 2,\n",
       "         'thursday': 1,\n",
       "         'august': 1,\n",
       "         'releases': 1,\n",
       "         'copyright': 1,\n",
       "         'all': 1,\n",
       "         'rights': 1,\n",
       "         'reservedyou': 1,\n",
       "         'have': 1,\n",
       "         'received': 1,\n",
       "         'this': 2,\n",
       "         'message': 1,\n",
       "         'because': 1,\n",
       "         'you': 2,\n",
       "         'subscribed': 1,\n",
       "         'to': 4,\n",
       "         'iton': 1,\n",
       "         'stop': 1,\n",
       "         'receiving': 1,\n",
       "         'and': 2,\n",
       "         'othermessages': 1,\n",
       "         'from': 2,\n",
       "         'or': 1,\n",
       "         'add': 1,\n",
       "         'more': 1,\n",
       "         'messagesor': 1,\n",
       "         'change': 2,\n",
       "         'your': 3,\n",
       "         'preferences': 2,\n",
       "         'please': 1,\n",
       "         'go': 1,\n",
       "         'user': 1,\n",
       "         'page': 1,\n",
       "         'can': 1,\n",
       "         'log': 1,\n",
       "         'in': 1,\n",
       "         'there': 1})"
      ]
     },
     "metadata": {},
     "execution_count": 18
    }
   ],
   "source": [
    "counter_list[0]"
   ]
  },
  {
   "cell_type": "code",
   "execution_count": null,
   "metadata": {},
   "outputs": [],
   "source": [
    "## convert HTML to plain text -> beautifulsoup"
   ]
  },
  {
   "cell_type": "code",
   "execution_count": 19,
   "metadata": {},
   "outputs": [],
   "source": [
    "import pandas as pd\n",
    "df = pd.DataFrame(counter_list)"
   ]
  },
  {
   "cell_type": "code",
   "execution_count": 21,
   "metadata": {},
   "outputs": [],
   "source": [
    "df.fillna(value=0,inplace=True)"
   ]
  },
  {
   "cell_type": "code",
   "execution_count": 22,
   "metadata": {},
   "outputs": [
    {
     "output_type": "execute_result",
     "data": {
      "text/plain": [
       "      use  perl  daily  headline  mailerinstalling   on  mac   os    x  \\\n",
       "0     3.0   4.0    1.0       1.0               1.0  2.0  1.0  1.0  1.0   \n",
       "1     0.0   0.0    0.0       0.0               0.0  0.0  0.0  0.0  0.0   \n",
       "2     0.0   0.0    0.0       0.0               0.0  0.0  0.0  0.0  0.0   \n",
       "3     0.0   0.0    0.0       0.0               0.0  3.0  0.0  0.0  0.0   \n",
       "4     0.0   0.0    0.0       0.0               0.0  1.0  1.0  0.0  0.0   \n",
       "...   ...   ...    ...       ...               ...  ...  ...  ...  ...   \n",
       "2546  0.0   0.0    0.0       0.0               0.0  1.0  0.0  0.0  0.0   \n",
       "2547  0.0   0.0    0.0       0.0               0.0  1.0  0.0  0.0  0.0   \n",
       "2548  0.0   0.0    0.0       0.0               0.0  0.0  0.0  1.0  0.0   \n",
       "2549  0.0   0.0    0.0       0.0               0.0  6.0  0.0  0.0  0.0   \n",
       "2550  0.0   0.0    0.0       0.0               0.0  3.0  0.0  0.0  0.0   \n",
       "\n",
       "      posted  ...  walkcome  revisited  ratein  datafalse  afterstripping  \\\n",
       "0        1.0  ...       0.0        0.0     0.0        0.0             0.0   \n",
       "1        0.0  ...       0.0        0.0     0.0        0.0             0.0   \n",
       "2        0.0  ...       0.0        0.0     0.0        0.0             0.0   \n",
       "3        0.0  ...       0.0        0.0     0.0        0.0             0.0   \n",
       "4        0.0  ...       0.0        0.0     0.0        0.0             0.0   \n",
       "...      ...  ...       ...        ...     ...        ...             ...   \n",
       "2546     0.0  ...       0.0        0.0     0.0        0.0             0.0   \n",
       "2547     0.0  ...       0.0        0.0     0.0        0.0             0.0   \n",
       "2548     0.0  ...       0.0        0.0     0.0        0.0             0.0   \n",
       "2549     0.0  ...       1.0        0.0     0.0        0.0             0.0   \n",
       "2550     0.0  ...       0.0        1.0     1.0        1.0             1.0   \n",
       "\n",
       "      merepresence  trafficso  revisitedif  saywhat  tomeasure  \n",
       "0              0.0        0.0          0.0      0.0        0.0  \n",
       "1              0.0        0.0          0.0      0.0        0.0  \n",
       "2              0.0        0.0          0.0      0.0        0.0  \n",
       "3              0.0        0.0          0.0      0.0        0.0  \n",
       "4              0.0        0.0          0.0      0.0        0.0  \n",
       "...            ...        ...          ...      ...        ...  \n",
       "2546           0.0        0.0          0.0      0.0        0.0  \n",
       "2547           0.0        0.0          0.0      0.0        0.0  \n",
       "2548           0.0        0.0          0.0      0.0        0.0  \n",
       "2549           0.0        0.0          0.0      0.0        0.0  \n",
       "2550           1.0        1.0          1.0      1.0        1.0  \n",
       "\n",
       "[2551 rows x 42367 columns]"
      ],
      "text/html": "<div>\n<style scoped>\n    .dataframe tbody tr th:only-of-type {\n        vertical-align: middle;\n    }\n\n    .dataframe tbody tr th {\n        vertical-align: top;\n    }\n\n    .dataframe thead th {\n        text-align: right;\n    }\n</style>\n<table border=\"1\" class=\"dataframe\">\n  <thead>\n    <tr style=\"text-align: right;\">\n      <th></th>\n      <th>use</th>\n      <th>perl</th>\n      <th>daily</th>\n      <th>headline</th>\n      <th>mailerinstalling</th>\n      <th>on</th>\n      <th>mac</th>\n      <th>os</th>\n      <th>x</th>\n      <th>posted</th>\n      <th>...</th>\n      <th>walkcome</th>\n      <th>revisited</th>\n      <th>ratein</th>\n      <th>datafalse</th>\n      <th>afterstripping</th>\n      <th>merepresence</th>\n      <th>trafficso</th>\n      <th>revisitedif</th>\n      <th>saywhat</th>\n      <th>tomeasure</th>\n    </tr>\n  </thead>\n  <tbody>\n    <tr>\n      <th>0</th>\n      <td>3.0</td>\n      <td>4.0</td>\n      <td>1.0</td>\n      <td>1.0</td>\n      <td>1.0</td>\n      <td>2.0</td>\n      <td>1.0</td>\n      <td>1.0</td>\n      <td>1.0</td>\n      <td>1.0</td>\n      <td>...</td>\n      <td>0.0</td>\n      <td>0.0</td>\n      <td>0.0</td>\n      <td>0.0</td>\n      <td>0.0</td>\n      <td>0.0</td>\n      <td>0.0</td>\n      <td>0.0</td>\n      <td>0.0</td>\n      <td>0.0</td>\n    </tr>\n    <tr>\n      <th>1</th>\n      <td>0.0</td>\n      <td>0.0</td>\n      <td>0.0</td>\n      <td>0.0</td>\n      <td>0.0</td>\n      <td>0.0</td>\n      <td>0.0</td>\n      <td>0.0</td>\n      <td>0.0</td>\n      <td>0.0</td>\n      <td>...</td>\n      <td>0.0</td>\n      <td>0.0</td>\n      <td>0.0</td>\n      <td>0.0</td>\n      <td>0.0</td>\n      <td>0.0</td>\n      <td>0.0</td>\n      <td>0.0</td>\n      <td>0.0</td>\n      <td>0.0</td>\n    </tr>\n    <tr>\n      <th>2</th>\n      <td>0.0</td>\n      <td>0.0</td>\n      <td>0.0</td>\n      <td>0.0</td>\n      <td>0.0</td>\n      <td>0.0</td>\n      <td>0.0</td>\n      <td>0.0</td>\n      <td>0.0</td>\n      <td>0.0</td>\n      <td>...</td>\n      <td>0.0</td>\n      <td>0.0</td>\n      <td>0.0</td>\n      <td>0.0</td>\n      <td>0.0</td>\n      <td>0.0</td>\n      <td>0.0</td>\n      <td>0.0</td>\n      <td>0.0</td>\n      <td>0.0</td>\n    </tr>\n    <tr>\n      <th>3</th>\n      <td>0.0</td>\n      <td>0.0</td>\n      <td>0.0</td>\n      <td>0.0</td>\n      <td>0.0</td>\n      <td>3.0</td>\n      <td>0.0</td>\n      <td>0.0</td>\n      <td>0.0</td>\n      <td>0.0</td>\n      <td>...</td>\n      <td>0.0</td>\n      <td>0.0</td>\n      <td>0.0</td>\n      <td>0.0</td>\n      <td>0.0</td>\n      <td>0.0</td>\n      <td>0.0</td>\n      <td>0.0</td>\n      <td>0.0</td>\n      <td>0.0</td>\n    </tr>\n    <tr>\n      <th>4</th>\n      <td>0.0</td>\n      <td>0.0</td>\n      <td>0.0</td>\n      <td>0.0</td>\n      <td>0.0</td>\n      <td>1.0</td>\n      <td>1.0</td>\n      <td>0.0</td>\n      <td>0.0</td>\n      <td>0.0</td>\n      <td>...</td>\n      <td>0.0</td>\n      <td>0.0</td>\n      <td>0.0</td>\n      <td>0.0</td>\n      <td>0.0</td>\n      <td>0.0</td>\n      <td>0.0</td>\n      <td>0.0</td>\n      <td>0.0</td>\n      <td>0.0</td>\n    </tr>\n    <tr>\n      <th>...</th>\n      <td>...</td>\n      <td>...</td>\n      <td>...</td>\n      <td>...</td>\n      <td>...</td>\n      <td>...</td>\n      <td>...</td>\n      <td>...</td>\n      <td>...</td>\n      <td>...</td>\n      <td>...</td>\n      <td>...</td>\n      <td>...</td>\n      <td>...</td>\n      <td>...</td>\n      <td>...</td>\n      <td>...</td>\n      <td>...</td>\n      <td>...</td>\n      <td>...</td>\n      <td>...</td>\n    </tr>\n    <tr>\n      <th>2546</th>\n      <td>0.0</td>\n      <td>0.0</td>\n      <td>0.0</td>\n      <td>0.0</td>\n      <td>0.0</td>\n      <td>1.0</td>\n      <td>0.0</td>\n      <td>0.0</td>\n      <td>0.0</td>\n      <td>0.0</td>\n      <td>...</td>\n      <td>0.0</td>\n      <td>0.0</td>\n      <td>0.0</td>\n      <td>0.0</td>\n      <td>0.0</td>\n      <td>0.0</td>\n      <td>0.0</td>\n      <td>0.0</td>\n      <td>0.0</td>\n      <td>0.0</td>\n    </tr>\n    <tr>\n      <th>2547</th>\n      <td>0.0</td>\n      <td>0.0</td>\n      <td>0.0</td>\n      <td>0.0</td>\n      <td>0.0</td>\n      <td>1.0</td>\n      <td>0.0</td>\n      <td>0.0</td>\n      <td>0.0</td>\n      <td>0.0</td>\n      <td>...</td>\n      <td>0.0</td>\n      <td>0.0</td>\n      <td>0.0</td>\n      <td>0.0</td>\n      <td>0.0</td>\n      <td>0.0</td>\n      <td>0.0</td>\n      <td>0.0</td>\n      <td>0.0</td>\n      <td>0.0</td>\n    </tr>\n    <tr>\n      <th>2548</th>\n      <td>0.0</td>\n      <td>0.0</td>\n      <td>0.0</td>\n      <td>0.0</td>\n      <td>0.0</td>\n      <td>0.0</td>\n      <td>0.0</td>\n      <td>1.0</td>\n      <td>0.0</td>\n      <td>0.0</td>\n      <td>...</td>\n      <td>0.0</td>\n      <td>0.0</td>\n      <td>0.0</td>\n      <td>0.0</td>\n      <td>0.0</td>\n      <td>0.0</td>\n      <td>0.0</td>\n      <td>0.0</td>\n      <td>0.0</td>\n      <td>0.0</td>\n    </tr>\n    <tr>\n      <th>2549</th>\n      <td>0.0</td>\n      <td>0.0</td>\n      <td>0.0</td>\n      <td>0.0</td>\n      <td>0.0</td>\n      <td>6.0</td>\n      <td>0.0</td>\n      <td>0.0</td>\n      <td>0.0</td>\n      <td>0.0</td>\n      <td>...</td>\n      <td>1.0</td>\n      <td>0.0</td>\n      <td>0.0</td>\n      <td>0.0</td>\n      <td>0.0</td>\n      <td>0.0</td>\n      <td>0.0</td>\n      <td>0.0</td>\n      <td>0.0</td>\n      <td>0.0</td>\n    </tr>\n    <tr>\n      <th>2550</th>\n      <td>0.0</td>\n      <td>0.0</td>\n      <td>0.0</td>\n      <td>0.0</td>\n      <td>0.0</td>\n      <td>3.0</td>\n      <td>0.0</td>\n      <td>0.0</td>\n      <td>0.0</td>\n      <td>0.0</td>\n      <td>...</td>\n      <td>0.0</td>\n      <td>1.0</td>\n      <td>1.0</td>\n      <td>1.0</td>\n      <td>1.0</td>\n      <td>1.0</td>\n      <td>1.0</td>\n      <td>1.0</td>\n      <td>1.0</td>\n      <td>1.0</td>\n    </tr>\n  </tbody>\n</table>\n<p>2551 rows × 42367 columns</p>\n</div>"
     },
     "metadata": {},
     "execution_count": 22
    }
   ],
   "source": [
    "df"
   ]
  },
  {
   "source": [
    "### Huge amount of features, there is still room for a lot of cleaning"
   ],
   "cell_type": "markdown",
   "metadata": {}
  },
  {
   "cell_type": "code",
   "execution_count": null,
   "metadata": {},
   "outputs": [],
   "source": []
  }
 ]
}